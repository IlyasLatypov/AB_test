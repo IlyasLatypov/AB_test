{
 "cells": [
  {
   "cell_type": "markdown",
   "id": "a88b576a",
   "metadata": {},
   "source": [
    "## Латыпов Ильяс Дамирович (DS-22)\n",
    "## Домашнее задание №4.\n",
    "\n",
    "В данном задании вам нужно будет провести анализ данных проведенного A/B-теста.\n",
    "\n",
    "Данные будут предоставлены в формате csv. Они будут содержать также часть пред экспериментального этапа.\n",
    "\n",
    "Описание эксперимента:\n",
    "\n",
    "    Есть мобильное приложение. В этом приложении у пользователей есть возможность покупать игровые предметы за реальные деньги. Чтобы стимулировать пользователей их покупать, приложение периодически предлагает пользователям товары - появляется окошко с рекомендацией купить товар. Отдел машинного обучения предложил улучшение для текущего алгоритма выбора рекомендации. Для проверки улучшений алгоритма был проведен A/B тест. Лог его проведения предоставлен в прикрепленном файле. \n",
    "\n",
    "Метрика:\n",
    "\n",
    "    Cредний доход от пользователя за 1 неделю после первого показа ему рекомендации на 10% (после начала A/B теста время первого показа ищется снова)\n",
    "\n",
    "Важная информация:\n",
    "    \n",
    "    • Эксперимент начинается 2023-05-01. Данные есть до 2023-06-01 (но можно завершить раньше, если это позволит оценка длительности)\n",
    "    • Вам сказали, что его длительность должна составить 1 месяц.\n",
    "    • Все покупки, которые вызваны не влиянием рекомендаций, в этом логе не учитываются\n",
    "\n",
    "Описание данных:\n",
    "\n",
    "    id_product -  идентификатор продукта, который был рекомендован\n",
    "    is_pay - купил ли пользователь товар\n",
    "    sum_payment - размер платежа (0, если не купил)\n",
    "    city - город, в котором находится пользователь\n",
    "    id_user - пользователь\n",
    "    timestamp - timestamp события\n",
    "    date - дата события\n",
    "\n",
    "Задачи, которые необходимо решить:\n",
    "\n",
    "1.\tОценить длительность теста на момент его начала. Сравнить с предложенной. Для оценки необходимо использовать данные с пред экспериментального периода. Посмотреть, есть ли выбросы в данных.\n",
    "2.\tПостроить методику расчета целевой метрики. Рассчитать целевую метрику на день окончания теста (рассчитанной в п1) для группы A и B, рассчитать эффект, p_value. Посмотреть, есть ли выбросы в данных.\n",
    "3.\tРассчитать метрики из п2 по дням и построить их графики.\n",
    "4.\tПринять решение о результате теста - обосновать.\n",
    "\n",
    "Дополнительно:\n",
    "\n",
    "    При подсчете метрик обработать выбросы в данных - описать почему их можно удалить из теста, если они удаляются. Пожалуйста, не заглядывайте в будущее по данным, если рассчитанная длительность меньше предоставленных данных.\n",
    "    Данные: ссылка, читать стоит с pd.read_csv(\"ab_made_4.gzip\", compression='gzip')"
   ]
  },
  {
   "cell_type": "code",
   "execution_count": 1,
   "id": "126c1453",
   "metadata": {},
   "outputs": [],
   "source": [
    "import numpy as np\n",
    "import scipy.stats as sps\n",
    "import pandas as pd\n",
    "from datetime import datetime, timedelta\n",
    "\n",
    "import plotly.graph_objs as go\n",
    "import matplotlib.pyplot as plt\n",
    "%matplotlib inline\n",
    "\n",
    "import warnings\n",
    "warnings.filterwarnings(\"ignore\")"
   ]
  },
  {
   "cell_type": "markdown",
   "id": "3b9e6e00",
   "metadata": {},
   "source": [
    "### Загрузка данных"
   ]
  },
  {
   "cell_type": "code",
   "execution_count": 2,
   "id": "510b3312",
   "metadata": {},
   "outputs": [
    {
     "data": {
      "text/html": [
       "<div>\n",
       "<style scoped>\n",
       "    .dataframe tbody tr th:only-of-type {\n",
       "        vertical-align: middle;\n",
       "    }\n",
       "\n",
       "    .dataframe tbody tr th {\n",
       "        vertical-align: top;\n",
       "    }\n",
       "\n",
       "    .dataframe thead th {\n",
       "        text-align: right;\n",
       "    }\n",
       "</style>\n",
       "<table border=\"1\" class=\"dataframe\">\n",
       "  <thead>\n",
       "    <tr style=\"text-align: right;\">\n",
       "      <th></th>\n",
       "      <th>timestamp</th>\n",
       "      <th>id_user</th>\n",
       "      <th>sum_payment</th>\n",
       "      <th>group</th>\n",
       "      <th>city</th>\n",
       "      <th>id_product</th>\n",
       "      <th>is_pay</th>\n",
       "      <th>date</th>\n",
       "      <th>date_offer</th>\n",
       "    </tr>\n",
       "  </thead>\n",
       "  <tbody>\n",
       "    <tr>\n",
       "      <th>22708</th>\n",
       "      <td>1682835140</td>\n",
       "      <td>7363</td>\n",
       "      <td>0</td>\n",
       "      <td>prepare</td>\n",
       "      <td>Рязань</td>\n",
       "      <td>4.0</td>\n",
       "      <td>0</td>\n",
       "      <td>2023-04-30</td>\n",
       "      <td>2023-04-30</td>\n",
       "    </tr>\n",
       "    <tr>\n",
       "      <th>32841</th>\n",
       "      <td>1684445064</td>\n",
       "      <td>9626</td>\n",
       "      <td>22</td>\n",
       "      <td>A</td>\n",
       "      <td>Рязань</td>\n",
       "      <td>3.0</td>\n",
       "      <td>1</td>\n",
       "      <td>2023-05-19</td>\n",
       "      <td>2023-05-18</td>\n",
       "    </tr>\n",
       "    <tr>\n",
       "      <th>12276</th>\n",
       "      <td>1682363566</td>\n",
       "      <td>2903</td>\n",
       "      <td>0</td>\n",
       "      <td>prepare</td>\n",
       "      <td>Санкт-Петербург</td>\n",
       "      <td>3.0</td>\n",
       "      <td>0</td>\n",
       "      <td>2023-04-24</td>\n",
       "      <td>2023-04-24</td>\n",
       "    </tr>\n",
       "    <tr>\n",
       "      <th>21669</th>\n",
       "      <td>1682774174</td>\n",
       "      <td>6081</td>\n",
       "      <td>0</td>\n",
       "      <td>prepare</td>\n",
       "      <td>Рязань</td>\n",
       "      <td>14.0</td>\n",
       "      <td>0</td>\n",
       "      <td>2023-04-29</td>\n",
       "      <td>2023-04-29</td>\n",
       "    </tr>\n",
       "    <tr>\n",
       "      <th>32618</th>\n",
       "      <td>1684462955</td>\n",
       "      <td>874</td>\n",
       "      <td>0</td>\n",
       "      <td>A</td>\n",
       "      <td>Рязань</td>\n",
       "      <td>21.0</td>\n",
       "      <td>0</td>\n",
       "      <td>2023-05-19</td>\n",
       "      <td>2023-05-19</td>\n",
       "    </tr>\n",
       "    <tr>\n",
       "      <th>20954</th>\n",
       "      <td>1682801303</td>\n",
       "      <td>7796</td>\n",
       "      <td>0</td>\n",
       "      <td>prepare</td>\n",
       "      <td>Москва</td>\n",
       "      <td>16.0</td>\n",
       "      <td>0</td>\n",
       "      <td>2023-04-29</td>\n",
       "      <td>2023-04-29</td>\n",
       "    </tr>\n",
       "    <tr>\n",
       "      <th>15895</th>\n",
       "      <td>1682576155</td>\n",
       "      <td>287</td>\n",
       "      <td>0</td>\n",
       "      <td>prepare</td>\n",
       "      <td>Рязань</td>\n",
       "      <td>5.0</td>\n",
       "      <td>0</td>\n",
       "      <td>2023-04-27</td>\n",
       "      <td>2023-04-27</td>\n",
       "    </tr>\n",
       "    <tr>\n",
       "      <th>19951</th>\n",
       "      <td>1682762152</td>\n",
       "      <td>4740</td>\n",
       "      <td>0</td>\n",
       "      <td>prepare</td>\n",
       "      <td>Санкт-Петербург</td>\n",
       "      <td>13.0</td>\n",
       "      <td>0</td>\n",
       "      <td>2023-04-29</td>\n",
       "      <td>2023-04-29</td>\n",
       "    </tr>\n",
       "    <tr>\n",
       "      <th>5999</th>\n",
       "      <td>1681799526</td>\n",
       "      <td>2547</td>\n",
       "      <td>0</td>\n",
       "      <td>prepare</td>\n",
       "      <td>Москва</td>\n",
       "      <td>14.0</td>\n",
       "      <td>0</td>\n",
       "      <td>2023-04-18</td>\n",
       "      <td>2023-04-18</td>\n",
       "    </tr>\n",
       "    <tr>\n",
       "      <th>26214</th>\n",
       "      <td>1683389184</td>\n",
       "      <td>1805</td>\n",
       "      <td>25</td>\n",
       "      <td>B</td>\n",
       "      <td>Ярославь</td>\n",
       "      <td>12.0</td>\n",
       "      <td>1</td>\n",
       "      <td>2023-05-06</td>\n",
       "      <td>2023-05-06</td>\n",
       "    </tr>\n",
       "  </tbody>\n",
       "</table>\n",
       "</div>"
      ],
      "text/plain": [
       "        timestamp  id_user  sum_payment    group             city  id_product  \\\n",
       "22708  1682835140     7363            0  prepare           Рязань         4.0   \n",
       "32841  1684445064     9626           22        A           Рязань         3.0   \n",
       "12276  1682363566     2903            0  prepare  Санкт-Петербург         3.0   \n",
       "21669  1682774174     6081            0  prepare           Рязань        14.0   \n",
       "32618  1684462955      874            0        A           Рязань        21.0   \n",
       "20954  1682801303     7796            0  prepare           Москва        16.0   \n",
       "15895  1682576155      287            0  prepare           Рязань         5.0   \n",
       "19951  1682762152     4740            0  prepare  Санкт-Петербург        13.0   \n",
       "5999   1681799526     2547            0  prepare           Москва        14.0   \n",
       "26214  1683389184     1805           25        B         Ярославь        12.0   \n",
       "\n",
       "       is_pay        date  date_offer  \n",
       "22708       0  2023-04-30  2023-04-30  \n",
       "32841       1  2023-05-19  2023-05-18  \n",
       "12276       0  2023-04-24  2023-04-24  \n",
       "21669       0  2023-04-29  2023-04-29  \n",
       "32618       0  2023-05-19  2023-05-19  \n",
       "20954       0  2023-04-29  2023-04-29  \n",
       "15895       0  2023-04-27  2023-04-27  \n",
       "19951       0  2023-04-29  2023-04-29  \n",
       "5999        0  2023-04-18  2023-04-18  \n",
       "26214       1  2023-05-06  2023-05-06  "
      ]
     },
     "execution_count": 2,
     "metadata": {},
     "output_type": "execute_result"
    }
   ],
   "source": [
    "data = pd.read_csv(\"ab_made_4.gzip\", compression='gzip', parse_dates=['date'], dayfirst=True)\n",
    "data['date'] = data['date'].apply(datetime.date)\n",
    "data['date_offer'] = data['timestamp'].apply(datetime.utcfromtimestamp).apply(datetime.date)\n",
    "data[\"group\"] = data[\"group\"].fillna(\"prepare\")\n",
    "\n",
    "data[\"id_user\"] = data[\"id_user\"].apply(lambda x: x[5:])\n",
    "data[\"id_user\"] = data[\"id_user\"].astype(int)\n",
    "\n",
    "data.sample(10)"
   ]
  },
  {
   "cell_type": "markdown",
   "id": "ddd2a493",
   "metadata": {},
   "source": [
    "## EDA"
   ]
  },
  {
   "cell_type": "code",
   "execution_count": 3,
   "id": "f7595dca",
   "metadata": {},
   "outputs": [],
   "source": [
    "# hist plot fuction\n",
    "def plot_hist(datas, labels, colors, col_names, col_number=2, \n",
    "                         figsize_=(18, 8), bins_=30, log_y=False, log_x=None):\n",
    "    row_numder = -(-len(col_names)//col_number)\n",
    "    fig, axes_ = plt.subplots(row_numder, col_number, figsize=figsize_)\n",
    "    \n",
    "    if (row_numder == 1) or (col_number == 1):\n",
    "        for counter_ in range(len(col_names)):\n",
    "            bins_tr = bins_\n",
    "            if log_x is not None:\n",
    "                if log_x[counter_]:\n",
    "                    axes_[counter_].set_xscale(\"log\")\n",
    "                    values_ = datas[0][col_names[counter_]].to_numpy()\n",
    "                    bins_tr = np.exp(np.linspace(np.log(min(values_)), np.log(max(values_)), num=bins_+1))\n",
    "            \n",
    "            hist, bins_tr, _ = axes_[counter_].hist(datas[0][col_names[counter_]], rwidth=0.95, alpha=0.55, \n",
    "                                                 label=labels[0], color=colors[0], bins=bins_tr, log=log_y)\n",
    "            for data_idx in range(1, len(datas)):\n",
    "                axes_[counter_].hist(datas[data_idx][col_names[counter_]], rwidth=0.95, alpha=0.55, \n",
    "                                     label=labels[data_idx], color=colors[data_idx], bins=bins_tr, log=log_y)\n",
    "\n",
    "\n",
    "            axes_[counter_].set_title(col_names[counter_])\n",
    "            axes_[counter_].legend(loc=1)\n",
    "    else:\n",
    "        for counter_ in range(len(col_names)):\n",
    "            pic_row_ = counter_//col_number\n",
    "            pic_col_ = counter_ % col_number\n",
    "            bins_tr = bins_\n",
    "            if log_x is not None:\n",
    "                if log_x[counter_]:\n",
    "                    axes_[pic_row_, pic_col_].set_xscale(\"log\")\n",
    "                    values_ = datas[0][col_names[counter_]].to_numpy()\n",
    "                    bins_tr = np.exp(np.linspace(np.log(min(values_)), np.log(max(values_)), num=bins_+1))\n",
    "                 \n",
    "            hist, bins_tr, _ = axes_[pic_row_, pic_col_].hist(datas[0][col_names[counter_]], rwidth=0.95, alpha=0.55, \n",
    "                                                              label=labels[0], color=colors[0], bins=bins_, log=log_y)\n",
    "            for data_idx in range(1, len(datas)):\n",
    "                axes_[pic_row_, pic_col_].hist(datas[col_names[counter_]], rwidth=0.95, alpha=0.55, \n",
    "                                               label=labels[data_idx], color=colors[data_idx], bins=bins_tr, log=log_y)\n",
    "            if log_x is not None:\n",
    "                if log_x[counter_]:\n",
    "                    axes_[pic_row_, pic_col_].set_xscale(\"log\")\n",
    "\n",
    "            axes_[pic_row_, pic_col_].set_title(col_names[counter_])\n",
    "            axes_[pic_row_, pic_col_].legend(loc=1)"
   ]
  },
  {
   "cell_type": "code",
   "execution_count": 4,
   "id": "e7cf5e65",
   "metadata": {},
   "outputs": [
    {
     "data": {
      "text/html": [
       "<div>\n",
       "<style scoped>\n",
       "    .dataframe tbody tr th:only-of-type {\n",
       "        vertical-align: middle;\n",
       "    }\n",
       "\n",
       "    .dataframe tbody tr th {\n",
       "        vertical-align: top;\n",
       "    }\n",
       "\n",
       "    .dataframe thead tr th {\n",
       "        text-align: left;\n",
       "    }\n",
       "\n",
       "    .dataframe thead tr:last-of-type th {\n",
       "        text-align: right;\n",
       "    }\n",
       "</style>\n",
       "<table border=\"1\" class=\"dataframe\">\n",
       "  <thead>\n",
       "    <tr>\n",
       "      <th></th>\n",
       "      <th colspan=\"2\" halign=\"left\">date</th>\n",
       "      <th colspan=\"2\" halign=\"left\">date_offer</th>\n",
       "    </tr>\n",
       "    <tr>\n",
       "      <th></th>\n",
       "      <th>min</th>\n",
       "      <th>max</th>\n",
       "      <th>min</th>\n",
       "      <th>max</th>\n",
       "    </tr>\n",
       "    <tr>\n",
       "      <th>group</th>\n",
       "      <th></th>\n",
       "      <th></th>\n",
       "      <th></th>\n",
       "      <th></th>\n",
       "    </tr>\n",
       "  </thead>\n",
       "  <tbody>\n",
       "    <tr>\n",
       "      <th>A</th>\n",
       "      <td>2023-05-01</td>\n",
       "      <td>2023-05-31</td>\n",
       "      <td>2023-05-01</td>\n",
       "      <td>2023-05-31</td>\n",
       "    </tr>\n",
       "    <tr>\n",
       "      <th>B</th>\n",
       "      <td>2023-05-01</td>\n",
       "      <td>2023-05-31</td>\n",
       "      <td>2023-04-30</td>\n",
       "      <td>2023-05-31</td>\n",
       "    </tr>\n",
       "    <tr>\n",
       "      <th>prepare</th>\n",
       "      <td>2023-04-01</td>\n",
       "      <td>2023-04-30</td>\n",
       "      <td>2023-04-01</td>\n",
       "      <td>2023-04-30</td>\n",
       "    </tr>\n",
       "  </tbody>\n",
       "</table>\n",
       "</div>"
      ],
      "text/plain": [
       "               date              date_offer            \n",
       "                min         max         min         max\n",
       "group                                                  \n",
       "A        2023-05-01  2023-05-31  2023-05-01  2023-05-31\n",
       "B        2023-05-01  2023-05-31  2023-04-30  2023-05-31\n",
       "prepare  2023-04-01  2023-04-30  2023-04-01  2023-04-30"
      ]
     },
     "execution_count": 4,
     "metadata": {},
     "output_type": "execute_result"
    }
   ],
   "source": [
    "data.groupby(\"group\")[[\"date\", \"date_offer\"]].agg([\"min\", \"max\"])"
   ]
  },
  {
   "cell_type": "markdown",
   "id": "3f92a0b8",
   "metadata": {},
   "source": [
    "#### Данные в датасете по времени соотвествуют условиям задачи "
   ]
  },
  {
   "cell_type": "code",
   "execution_count": 5,
   "id": "42debb6d",
   "metadata": {},
   "outputs": [
    {
     "data": {
      "text/plain": [
       "B_prepare    5000\n",
       "A_prepare    5000\n",
       "A            1000\n",
       "B            1000\n",
       "Name: group, dtype: int64"
      ]
     },
     "execution_count": 5,
     "metadata": {},
     "output_type": "execute_result"
    }
   ],
   "source": [
    "data.groupby(\"id_user\")[\"group\"].agg(lambda x: \"_\".join(set(x))).value_counts()"
   ]
  },
  {
   "cell_type": "markdown",
   "id": "20db18c3",
   "metadata": {},
   "source": [
    "#### Группы A и B не пересекаются по id_user"
   ]
  },
  {
   "cell_type": "code",
   "execution_count": 6,
   "id": "c6be9a57",
   "metadata": {},
   "outputs": [
    {
     "data": {
      "text/plain": [
       "0 days    13983\n",
       "1 days     1801\n",
       "dtype: int64"
      ]
     },
     "execution_count": 6,
     "metadata": {},
     "output_type": "execute_result"
    }
   ],
   "source": [
    "(data[data[\"is_pay\"]==1]['date'] - data[data[\"is_pay\"]==1]['date_offer']).value_counts()"
   ]
  },
  {
   "cell_type": "markdown",
   "id": "4a2dfb39",
   "metadata": {},
   "source": [
    "#### В основном покупки совершались в день предложения "
   ]
  },
  {
   "cell_type": "code",
   "execution_count": 7,
   "id": "aa391535",
   "metadata": {},
   "outputs": [
    {
     "data": {
      "text/plain": [
       "53      142\n",
       "1000      3\n",
       "Name: sum_payment, dtype: int64"
      ]
     },
     "execution_count": 7,
     "metadata": {},
     "output_type": "execute_result"
    }
   ],
   "source": [
    "data[data[\"sum_payment\"] >=50][\"sum_payment\"].value_counts()"
   ]
  },
  {
   "cell_type": "markdown",
   "id": "155f8c57",
   "metadata": {},
   "source": [
    "#### Есть выбросы по сумме покупок, выбросы приравняем к значению 53 (что бы их хоть как то учесть)"
   ]
  },
  {
   "cell_type": "code",
   "execution_count": 8,
   "id": "d6b29c3d",
   "metadata": {},
   "outputs": [],
   "source": [
    "data.loc[data[data[\"sum_payment\"] >=54].index, \"sum_payment\"] = 53"
   ]
  },
  {
   "cell_type": "code",
   "execution_count": 9,
   "id": "7c22ce8d",
   "metadata": {},
   "outputs": [
    {
     "data": {
      "image/png": "[encoded data removed]",
      "text/plain": [
       "<Figure size 1224x288 with 3 Axes>"
      ]
     },
     "metadata": {
      "needs_background": "light"
     },
     "output_type": "display_data"
    }
   ],
   "source": [
    "data_list = []\n",
    "colors = [\"yellow\", \"cyan\",  \"blue\"]\n",
    "labels = [\"prepare\", \"B\", \"A\",]\n",
    "for group_ in labels:\n",
    "    data_list.append(data[(data[\"group\"] == group_)])\n",
    "\n",
    "num_cols = [\"sum_payment\", \"id_product\", \"id_user\"]\n",
    "plot_hist(data_list, labels, colors, num_cols, col_number=3, figsize_=(17, 4), bins_=30, log_y=True)"
   ]
  },
  {
   "cell_type": "code",
   "execution_count": 10,
   "id": "96bc241f",
   "metadata": {},
   "outputs": [
    {
     "data": {
      "image/png": "[encoded data removed]",
      "text/plain": [
       "<Figure size 1224x288 with 3 Axes>"
      ]
     },
     "metadata": {
      "needs_background": "light"
     },
     "output_type": "display_data"
    }
   ],
   "source": [
    "data_list = []\n",
    "colors = [\"yellow\", \"cyan\",  \"blue\"]\n",
    "labels = [\"prepare\", \"B\", \"A\",]\n",
    "for group_ in labels:\n",
    "    data_list.append(data[(data[\"group\"] == group_) & (data[\"is_pay\"] == 1)])\n",
    "\n",
    "num_cols = [\"sum_payment\", \"id_product\", \"id_user\"]\n",
    "plot_hist(data_list, labels, colors, num_cols, col_number=3, figsize_=(17, 4), bins_=30)"
   ]
  },
  {
   "cell_type": "code",
   "execution_count": 11,
   "id": "2550bb83",
   "metadata": {},
   "outputs": [
    {
     "data": {
      "image/png": "[encoded data removed]",
      "text/plain": [
       "<Figure size 1224x288 with 3 Axes>"
      ]
     },
     "metadata": {
      "needs_background": "light"
     },
     "output_type": "display_data"
    }
   ],
   "source": [
    "cities = list(data[data[\"is_pay\"] == 1][\"city\"].value_counts().index)\n",
    "\n",
    "data_list = []\n",
    "colors = [\"yellow\", \"cyan\",  \"blue\"]\n",
    "labels = cities[:3]\n",
    "for group_ in labels:\n",
    "    data_list.append(data[(data[\"city\"] == group_)])\n",
    "\n",
    "num_cols = [\"sum_payment\", \"id_product\", \"id_user\"]\n",
    "plot_hist(data_list, labels, colors, num_cols, col_number=3, figsize_=(17, 4), bins_=30, log_y=True)"
   ]
  },
  {
   "cell_type": "code",
   "execution_count": 12,
   "id": "001d8dc3",
   "metadata": {},
   "outputs": [
    {
     "data": {
      "image/png": "[encoded data removed]",
      "text/plain": [
       "<Figure size 1224x288 with 3 Axes>"
      ]
     },
     "metadata": {
      "needs_background": "light"
     },
     "output_type": "display_data"
    }
   ],
   "source": [
    "cities = list(data[data[\"is_pay\"] == 1][\"city\"].value_counts().index)\n",
    "\n",
    "data_list = []\n",
    "colors = [\"yellow\", \"cyan\",  \"blue\"]\n",
    "labels = cities[:3]\n",
    "for group_ in labels:\n",
    "    data_list.append(data[(data[\"city\"] == group_) & (data[\"is_pay\"] == 1)])\n",
    "\n",
    "num_cols = [\"sum_payment\", \"id_product\", \"id_user\"]\n",
    "plot_hist(data_list, labels, colors, num_cols, col_number=3, figsize_=(17, 4), bins_=30)"
   ]
  },
  {
   "cell_type": "code",
   "execution_count": 13,
   "id": "78b5546f",
   "metadata": {},
   "outputs": [
    {
     "data": {
      "image/png": "[encoded data removed]",
      "text/plain": [
       "<Figure size 1224x288 with 3 Axes>"
      ]
     },
     "metadata": {
      "needs_background": "light"
     },
     "output_type": "display_data"
    }
   ],
   "source": [
    "data_list = []\n",
    "colors = [\"yellow\", \"cyan\"]\n",
    "labels = cities[3:]\n",
    "for group_ in labels:\n",
    "    data_list.append(data[(data[\"city\"] == group_)])\n",
    "\n",
    "plot_hist(data_list, labels, colors, num_cols, col_number=3, figsize_=(17, 4), bins_=30, log_y=True)"
   ]
  },
  {
   "cell_type": "code",
   "execution_count": 14,
   "id": "dfa99c14",
   "metadata": {},
   "outputs": [
    {
     "data": {
      "image/png": "[encoded data removed]",
      "text/plain": [
       "<Figure size 1224x288 with 3 Axes>"
      ]
     },
     "metadata": {
      "needs_background": "light"
     },
     "output_type": "display_data"
    }
   ],
   "source": [
    "data_list = []\n",
    "colors = [\"yellow\", \"cyan\"]\n",
    "labels = cities[3:]\n",
    "for group_ in labels:\n",
    "    data_list.append(data[(data[\"city\"] == group_) & (data[\"is_pay\"] == 1)])\n",
    "\n",
    "plot_hist(data_list, labels, colors, num_cols, col_number=3, figsize_=(17, 4), bins_=30)"
   ]
  },
  {
   "cell_type": "markdown",
   "id": "f744eb21",
   "metadata": {},
   "source": [
    "#### Распределение покупок по городам схожее "
   ]
  },
  {
   "cell_type": "code",
   "execution_count": 15,
   "id": "b1d0ccea",
   "metadata": {},
   "outputs": [
    {
     "data": {
      "text/html": [
       "<div>\n",
       "<style scoped>\n",
       "    .dataframe tbody tr th:only-of-type {\n",
       "        vertical-align: middle;\n",
       "    }\n",
       "\n",
       "    .dataframe tbody tr th {\n",
       "        vertical-align: top;\n",
       "    }\n",
       "\n",
       "    .dataframe thead th {\n",
       "        text-align: right;\n",
       "    }\n",
       "</style>\n",
       "<table border=\"1\" class=\"dataframe\">\n",
       "  <thead>\n",
       "    <tr style=\"text-align: right;\">\n",
       "      <th></th>\n",
       "      <th></th>\n",
       "      <th>count</th>\n",
       "    </tr>\n",
       "    <tr>\n",
       "      <th>is_pay</th>\n",
       "      <th>group</th>\n",
       "      <th></th>\n",
       "    </tr>\n",
       "  </thead>\n",
       "  <tbody>\n",
       "    <tr>\n",
       "      <th rowspan=\"3\" valign=\"top\">0</th>\n",
       "      <th>A</th>\n",
       "      <td>11020</td>\n",
       "    </tr>\n",
       "    <tr>\n",
       "      <th>B</th>\n",
       "      <td>10484</td>\n",
       "    </tr>\n",
       "    <tr>\n",
       "      <th>prepare</th>\n",
       "      <td>19117</td>\n",
       "    </tr>\n",
       "    <tr>\n",
       "      <th rowspan=\"3\" valign=\"top\">1</th>\n",
       "      <th>A</th>\n",
       "      <td>4369</td>\n",
       "    </tr>\n",
       "    <tr>\n",
       "      <th>B</th>\n",
       "      <td>4773</td>\n",
       "    </tr>\n",
       "    <tr>\n",
       "      <th>prepare</th>\n",
       "      <td>6642</td>\n",
       "    </tr>\n",
       "  </tbody>\n",
       "</table>\n",
       "</div>"
      ],
      "text/plain": [
       "                count\n",
       "is_pay group         \n",
       "0      A        11020\n",
       "       B        10484\n",
       "       prepare  19117\n",
       "1      A         4369\n",
       "       B         4773\n",
       "       prepare   6642"
      ]
     },
     "execution_count": 15,
     "metadata": {},
     "output_type": "execute_result"
    }
   ],
   "source": [
    "data.groupby([\"is_pay\", \"group\"])[\"date\"].agg([\"count\"])"
   ]
  },
  {
   "cell_type": "code",
   "execution_count": 16,
   "id": "19dae5fc",
   "metadata": {},
   "outputs": [
    {
     "data": {
      "text/html": [
       "<div>\n",
       "<style scoped>\n",
       "    .dataframe tbody tr th:only-of-type {\n",
       "        vertical-align: middle;\n",
       "    }\n",
       "\n",
       "    .dataframe tbody tr th {\n",
       "        vertical-align: top;\n",
       "    }\n",
       "\n",
       "    .dataframe thead th {\n",
       "        text-align: right;\n",
       "    }\n",
       "</style>\n",
       "<table border=\"1\" class=\"dataframe\">\n",
       "  <thead>\n",
       "    <tr style=\"text-align: right;\">\n",
       "      <th></th>\n",
       "      <th></th>\n",
       "      <th>count</th>\n",
       "    </tr>\n",
       "    <tr>\n",
       "      <th>city</th>\n",
       "      <th>group</th>\n",
       "      <th></th>\n",
       "    </tr>\n",
       "  </thead>\n",
       "  <tbody>\n",
       "    <tr>\n",
       "      <th rowspan=\"3\" valign=\"top\">Москва</th>\n",
       "      <th>A</th>\n",
       "      <td>3167</td>\n",
       "    </tr>\n",
       "    <tr>\n",
       "      <th>B</th>\n",
       "      <td>3010</td>\n",
       "    </tr>\n",
       "    <tr>\n",
       "      <th>prepare</th>\n",
       "      <td>5327</td>\n",
       "    </tr>\n",
       "    <tr>\n",
       "      <th rowspan=\"3\" valign=\"top\">Рязань</th>\n",
       "      <th>A</th>\n",
       "      <td>4649</td>\n",
       "    </tr>\n",
       "    <tr>\n",
       "      <th>B</th>\n",
       "      <td>4740</td>\n",
       "    </tr>\n",
       "    <tr>\n",
       "      <th>prepare</th>\n",
       "      <td>7745</td>\n",
       "    </tr>\n",
       "    <tr>\n",
       "      <th rowspan=\"3\" valign=\"top\">Санкт-Петербург</th>\n",
       "      <th>A</th>\n",
       "      <td>2971</td>\n",
       "    </tr>\n",
       "    <tr>\n",
       "      <th>B</th>\n",
       "      <td>3062</td>\n",
       "    </tr>\n",
       "    <tr>\n",
       "      <th>prepare</th>\n",
       "      <td>4903</td>\n",
       "    </tr>\n",
       "    <tr>\n",
       "      <th rowspan=\"3\" valign=\"top\">Тула</th>\n",
       "      <th>A</th>\n",
       "      <td>1500</td>\n",
       "    </tr>\n",
       "    <tr>\n",
       "      <th>B</th>\n",
       "      <td>1562</td>\n",
       "    </tr>\n",
       "    <tr>\n",
       "      <th>prepare</th>\n",
       "      <td>2514</td>\n",
       "    </tr>\n",
       "    <tr>\n",
       "      <th rowspan=\"3\" valign=\"top\">Ярославь</th>\n",
       "      <th>A</th>\n",
       "      <td>3102</td>\n",
       "    </tr>\n",
       "    <tr>\n",
       "      <th>B</th>\n",
       "      <td>2883</td>\n",
       "    </tr>\n",
       "    <tr>\n",
       "      <th>prepare</th>\n",
       "      <td>5270</td>\n",
       "    </tr>\n",
       "  </tbody>\n",
       "</table>\n",
       "</div>"
      ],
      "text/plain": [
       "                         count\n",
       "city            group         \n",
       "Москва          A         3167\n",
       "                B         3010\n",
       "                prepare   5327\n",
       "Рязань          A         4649\n",
       "                B         4740\n",
       "                prepare   7745\n",
       "Санкт-Петербург A         2971\n",
       "                B         3062\n",
       "                prepare   4903\n",
       "Тула            A         1500\n",
       "                B         1562\n",
       "                prepare   2514\n",
       "Ярославь        A         3102\n",
       "                B         2883\n",
       "                prepare   5270"
      ]
     },
     "execution_count": 16,
     "metadata": {},
     "output_type": "execute_result"
    }
   ],
   "source": [
    "data.groupby([ \"city\", \"group\"])[\"date\"].agg([\"count\"])"
   ]
  },
  {
   "cell_type": "markdown",
   "id": "5f7d5c17",
   "metadata": {},
   "source": [
    "### Выводы EDA\n",
    " - Количество покупок по группам A и B схожее:\n",
    "        - в общем\n",
    "        - в разрезе городов \n",
    "        - в разере \"id_product\"\n",
    "        - в разрезе реакции на предложение на покупки\n",
    "\n",
    " - Стратиграфия по городам не требуется\n",
    " - Выбросы по сумме были на трех покупках, сумма покупок ыла скорректирована на значени 53."
   ]
  },
  {
   "cell_type": "markdown",
   "id": "fed52492",
   "metadata": {},
   "source": [
    "## 1. Длительность теста\n",
    "\n",
    "#### Эффектом для AB теста будем считать изменение среднего по сумме покупок на 10%\n",
    "\n",
    "#### Посчитаем на всех данных до проведения теста двумя способами:  \n",
    "\n",
    " - группируя по user_id и ограничивая неделей возможность покупки после показа\n",
    " - и не группируя"
   ]
  },
  {
   "cell_type": "code",
   "execution_count": 17,
   "id": "53ab0c3f",
   "metadata": {},
   "outputs": [],
   "source": [
    "def duration(k, delta_effect, sigma_1, sigma_2, alpha=0.05, beta=0.2):\n",
    "    z = sps.norm.ppf(1 - alpha/2) + sps.norm.ppf(1-beta)\n",
    "    n = (k+1) * z ** 2 * (sigma_1 ** 2 + sigma_2 **2 / k) / (delta_effect ** 2)\n",
    "    return n"
   ]
  },
  {
   "cell_type": "code",
   "execution_count": 18,
   "id": "fe86bdc3",
   "metadata": {},
   "outputs": [
    {
     "data": {
      "text/plain": [
       "mean     5.442874\n",
       "std     10.446083\n",
       "Name: sum_payment, dtype: float64"
      ]
     },
     "execution_count": 18,
     "metadata": {},
     "output_type": "execute_result"
    }
   ],
   "source": [
    "stats_prepare = data[data[\"group\"] == \"prepare\"][\"sum_payment\"].agg([\"mean\", \"std\"])\n",
    "stats_prepare"
   ]
  },
  {
   "cell_type": "code",
   "execution_count": 19,
   "id": "02db1f0a",
   "metadata": {},
   "outputs": [
    {
     "data": {
      "text/plain": [
       "11564"
      ]
     },
     "execution_count": 19,
     "metadata": {},
     "output_type": "execute_result"
    }
   ],
   "source": [
    "effect = stats_prepare[\"mean\"] * 0.1\n",
    "ab_test_dur = int(duration(1, effect, stats_prepare[\"std\"], stats_prepare[\"std\"], alpha=0.05, beta=0.2))\n",
    "ab_test_dur"
   ]
  },
  {
   "cell_type": "code",
   "execution_count": 20,
   "id": "2faa97f6",
   "metadata": {},
   "outputs": [
    {
     "data": {
      "image/png": "[encoded data removed]",
      "text/plain": [
       "<Figure size 1080x288 with 1 Axes>"
      ]
     },
     "metadata": {
      "needs_background": "light"
     },
     "output_type": "display_data"
    }
   ],
   "source": [
    "ax = data[data[\"group\"] == \"prepare\"].groupby(\"date\")[\"date\"].count().cumsum().plot.bar(figsize=(15, 4))\n",
    "ax.plot([ab_test_dur] * 30, \"r\");"
   ]
  },
  {
   "cell_type": "code",
   "execution_count": 21,
   "id": "3321029e",
   "metadata": {},
   "outputs": [
    {
     "data": {
      "text/html": [
       "<div>\n",
       "<style scoped>\n",
       "    .dataframe tbody tr th:only-of-type {\n",
       "        vertical-align: middle;\n",
       "    }\n",
       "\n",
       "    .dataframe tbody tr th {\n",
       "        vertical-align: top;\n",
       "    }\n",
       "\n",
       "    .dataframe thead th {\n",
       "        text-align: right;\n",
       "    }\n",
       "</style>\n",
       "<table border=\"1\" class=\"dataframe\">\n",
       "  <thead>\n",
       "    <tr style=\"text-align: right;\">\n",
       "      <th></th>\n",
       "      <th>id_user</th>\n",
       "      <th>sum_payment</th>\n",
       "      <th>min_date</th>\n",
       "      <th>max_date</th>\n",
       "    </tr>\n",
       "  </thead>\n",
       "  <tbody>\n",
       "    <tr>\n",
       "      <th>7896</th>\n",
       "      <td>7896</td>\n",
       "      <td>0</td>\n",
       "      <td>2023-04-16</td>\n",
       "      <td>2023-04-23</td>\n",
       "    </tr>\n",
       "    <tr>\n",
       "      <th>8767</th>\n",
       "      <td>8767</td>\n",
       "      <td>0</td>\n",
       "      <td>2023-04-26</td>\n",
       "      <td>2023-05-03</td>\n",
       "    </tr>\n",
       "    <tr>\n",
       "      <th>3500</th>\n",
       "      <td>3500</td>\n",
       "      <td>93</td>\n",
       "      <td>2023-04-27</td>\n",
       "      <td>2023-05-04</td>\n",
       "    </tr>\n",
       "    <tr>\n",
       "      <th>2411</th>\n",
       "      <td>2411</td>\n",
       "      <td>0</td>\n",
       "      <td>2023-04-18</td>\n",
       "      <td>2023-04-25</td>\n",
       "    </tr>\n",
       "    <tr>\n",
       "      <th>9193</th>\n",
       "      <td>9193</td>\n",
       "      <td>0</td>\n",
       "      <td>2023-04-17</td>\n",
       "      <td>2023-04-24</td>\n",
       "    </tr>\n",
       "  </tbody>\n",
       "</table>\n",
       "</div>"
      ],
      "text/plain": [
       "      id_user  sum_payment    min_date    max_date\n",
       "7896     7896            0  2023-04-16  2023-04-23\n",
       "8767     8767            0  2023-04-26  2023-05-03\n",
       "3500     3500           93  2023-04-27  2023-05-04\n",
       "2411     2411            0  2023-04-18  2023-04-25\n",
       "9193     9193            0  2023-04-17  2023-04-24"
      ]
     },
     "execution_count": 21,
     "metadata": {},
     "output_type": "execute_result"
    }
   ],
   "source": [
    "def calc_payment_for_week(data_):\n",
    "    user_min_date = data_.groupby(\"id_user\")[\"date\"].min().reset_index(name='min_date')\n",
    "    user_min_date[\"max_date\"] = user_min_date[\"min_date\"] +  timedelta(days=7)\n",
    "    data_ = data_.merge(user_min_date, on='id_user')\n",
    "    data_ = data_[data_['date'] <= data_['max_date']] # условие ни минимум выполняется автоматически\n",
    "    data_sum = data_.groupby(\"id_user\")[\"sum_payment\"].sum().reset_index()\n",
    "    data_sum = data_sum.merge(user_min_date, on='id_user')\n",
    "    return data_sum\n",
    "\n",
    "data_prepare = calc_payment_for_week(data[data[\"group\"] == \"prepare\"])\n",
    "data_prepare.sample(5)"
   ]
  },
  {
   "cell_type": "code",
   "execution_count": 22,
   "id": "cf97b041",
   "metadata": {},
   "outputs": [
    {
     "data": {
      "text/plain": [
       "mean    11.287900\n",
       "std     17.096176\n",
       "Name: sum_payment, dtype: float64"
      ]
     },
     "execution_count": 22,
     "metadata": {},
     "output_type": "execute_result"
    }
   ],
   "source": [
    "stats_prepare = data_prepare[\"sum_payment\"].agg([\"mean\", \"std\"])\n",
    "stats_prepare"
   ]
  },
  {
   "cell_type": "code",
   "execution_count": 23,
   "id": "302bf627",
   "metadata": {},
   "outputs": [
    {
     "data": {
      "text/plain": [
       "7201"
      ]
     },
     "execution_count": 23,
     "metadata": {},
     "output_type": "execute_result"
    }
   ],
   "source": [
    "effect = stats_prepare[\"mean\"] * 0.1\n",
    "ab_test_dur = int(duration(1, effect, stats_prepare[\"std\"], stats_prepare[\"std\"], alpha=0.05, beta=0.2))\n",
    "ab_test_dur"
   ]
  },
  {
   "cell_type": "code",
   "execution_count": 24,
   "id": "5e383b79",
   "metadata": {},
   "outputs": [
    {
     "data": {
      "image/png": "[encoded data removed]",
      "text/plain": [
       "<Figure size 1080x288 with 1 Axes>"
      ]
     },
     "metadata": {
      "needs_background": "light"
     },
     "output_type": "display_data"
    }
   ],
   "source": [
    "ax = data_prepare.groupby(\"min_date\")[\"max_date\"].count().cumsum().plot.bar(figsize=(15, 4))\n",
    "ax.plot([ab_test_dur] * 30, \"r\");"
   ]
  },
  {
   "cell_type": "code",
   "execution_count": 25,
   "id": "5aec984e",
   "metadata": {},
   "outputs": [
    {
     "data": {
      "image/png": "[encoded data removed]",
      "text/plain": [
       "<Figure size 1080x288 with 1 Axes>"
      ]
     },
     "metadata": {
      "needs_background": "light"
     },
     "output_type": "display_data"
    }
   ],
   "source": [
    "ax = data_prepare.groupby(\"max_date\")[\"max_date\"].count().cumsum().plot.bar(figsize=(15, 4))\n",
    "ax.plot([ab_test_dur] * 30, \"r\");"
   ]
  },
  {
   "cell_type": "markdown",
   "id": "167f7013",
   "metadata": {},
   "source": [
    "### Вывод по длительности\n",
    "  - По данным с пред экспериментального периода проведена оценка длительности теста:\n",
    "      - без группировки по user_id оценка - 24 сутки\n",
    "      - с группировки по user_id оценка - 26 суток (по первой дате показа) \n",
    "      - с группировки по user_id оценка - 33 суток (по первой дате показа + 1 неделя)\n",
    "    \n",
    "    По предыдущему анализу было выявлено, что если осуществляется покупка то она происходит либо в тот же день либо на следующий. То есть нам возможно не обязательно ждать неделю, что бы поймать эффект. \n",
    "    \n",
    "    Но в работу берем весь выделенный месяц (31 сутки), который предоставлен для эксперимента.\n",
    "    Этого времени должно хватить для проведения AB теста. Решение по результатам теста будет приниматься на 31 сутки. "
   ]
  },
  {
   "cell_type": "markdown",
   "id": "b229c6d4",
   "metadata": {},
   "source": [
    "## Целевая метрика, эффект, p_value."
   ]
  },
  {
   "cell_type": "code",
   "execution_count": 26,
   "id": "a6cb6d61",
   "metadata": {},
   "outputs": [
    {
     "data": {
      "text/plain": [
       "((6000, 4), (6000, 4))"
      ]
     },
     "execution_count": 26,
     "metadata": {},
     "output_type": "execute_result"
    }
   ],
   "source": [
    "data_A = calc_payment_for_week(data[data[\"group\"] == \"A\"])\n",
    "data_B = calc_payment_for_week(data[data[\"group\"] == \"B\"])\n",
    "data_A.shape, data_B.shape"
   ]
  },
  {
   "cell_type": "code",
   "execution_count": 27,
   "id": "e807114d",
   "metadata": {},
   "outputs": [
    {
     "data": {
      "text/plain": [
       "1107    131\n",
       "1784    140\n",
       "2675    133\n",
       "2977    161\n",
       "3135    133\n",
       "3782    193\n",
       "3822    203\n",
       "5048    136\n",
       "Name: sum_payment, dtype: int64"
      ]
     },
     "execution_count": 27,
     "metadata": {},
     "output_type": "execute_result"
    }
   ],
   "source": [
    "data_A[data_A[\"sum_payment\"] > 130][\"sum_payment\"]"
   ]
  },
  {
   "cell_type": "code",
   "execution_count": 28,
   "id": "0d40f215",
   "metadata": {},
   "outputs": [
    {
     "data": {
      "text/plain": [
       "124     178\n",
       "951     134\n",
       "1851    169\n",
       "3512    152\n",
       "3680    175\n",
       "4269    170\n",
       "4428    134\n",
       "4983    133\n",
       "Name: sum_payment, dtype: int64"
      ]
     },
     "execution_count": 28,
     "metadata": {},
     "output_type": "execute_result"
    }
   ],
   "source": [
    "data_B[data_B[\"sum_payment\"] > 130][\"sum_payment\"]"
   ]
  },
  {
   "cell_type": "markdown",
   "id": "f442c379",
   "metadata": {},
   "source": [
    "### Только явные выбросы по sum_payment заменим на число где начинается плотность данных (на 133)"
   ]
  },
  {
   "cell_type": "code",
   "execution_count": 29,
   "id": "ce623d8c",
   "metadata": {},
   "outputs": [],
   "source": [
    "data_B.loc[data_B[data_B[\"sum_payment\"] > 133].index, \"sum_payment\"] = 133\n",
    "data_A.loc[data_A[data_A[\"sum_payment\"] > 133].index, \"sum_payment\"] = 133"
   ]
  },
  {
   "cell_type": "code",
   "execution_count": 30,
   "id": "73da809d",
   "metadata": {},
   "outputs": [
    {
     "data": {
      "image/png": "[encoded data removed]",
      "text/plain": [
       "<Figure size 1224x288 with 2 Axes>"
      ]
     },
     "metadata": {
      "needs_background": "light"
     },
     "output_type": "display_data"
    }
   ],
   "source": [
    "data_list = []\n",
    "colors = [\"red\", \"blue\"]\n",
    "labels = [\"B\", \"A\",]\n",
    "data_list = [data_B, data_A]\n",
    "\n",
    "num_cols = [\"sum_payment\"]\n",
    "plot_hist(data_list, labels, colors, num_cols, col_number=2, figsize_=(17, 4), bins_=30)"
   ]
  },
  {
   "cell_type": "code",
   "execution_count": 31,
   "id": "4bb1b664",
   "metadata": {},
   "outputs": [],
   "source": [
    "count_A = []\n",
    "mean_A = []\n",
    "count_B = []\n",
    "mean_B = []\n",
    "p_values = []\n",
    "stats = []\n",
    "date_range = pd.date_range(data_A[\"min_date\"].min(), data_A[\"min_date\"].max())\n",
    "for cur_date in date_range:\n",
    "    stats_A = data_A[data_A[\"min_date\"] <= cur_date][\"sum_payment\"].agg([\"mean\", \"count\"])\n",
    "    mean_A.append(stats_A[\"mean\"])\n",
    "    count_A.append(stats_A[\"count\"])\n",
    "    \n",
    "    stats_B = data_B[data_B[\"min_date\"] <= cur_date][\"sum_payment\"].agg([\"mean\", \"count\"])\n",
    "    mean_B.append(stats_B[\"mean\"])\n",
    "    count_B.append(stats_B[\"count\"])\n",
    "    \n",
    "    result = sps.ttest_ind(a=mean_A, b=mean_B, equal_var=False)\n",
    "    p_values.append(result.pvalue)\n",
    "    stats.append(result.statistic)"
   ]
  },
  {
   "cell_type": "code",
   "execution_count": 32,
   "id": "6f7a5e81",
   "metadata": {},
   "outputs": [
    {
     "name": "stdout",
     "output_type": "stream",
     "text": [
      "p_value на 31 сутки: 0.039\n",
      "статистика на 31 сутки: -2.133\n",
      "эффект на 31 сутки: 9.4%\n"
     ]
    }
   ],
   "source": [
    "r3 = lambda x: round(x, 3)\n",
    "period_for_test = 30\n",
    "print(\"p_value на 31 сутки:\", r3(p_values[period_for_test]))\n",
    "print(\"статистика на 31 сутки:\", r3(stats[period_for_test]))\n",
    "print(f\"эффект на 31 сутки: {r3((mean_B[period_for_test]/mean_A[period_for_test] - 1)*100)}%\")"
   ]
  },
  {
   "cell_type": "markdown",
   "id": "f11fe505",
   "metadata": {},
   "source": [
    "### Выводы\n",
    " - получен статистически значимы результат: p_value < 0.05 на 31 сутки\n",
    " - эффект около 9%-10%"
   ]
  },
  {
   "cell_type": "markdown",
   "id": "e97cfcc6",
   "metadata": {},
   "source": [
    "## Графики по дням"
   ]
  },
  {
   "cell_type": "code",
   "execution_count": 33,
   "id": "67acf029",
   "metadata": {},
   "outputs": [
    {
     "data": {
      "image/png": "[encoded data removed]",
      "text/plain": [
       "<Figure size 1152x360 with 1 Axes>"
      ]
     },
     "metadata": {
      "needs_background": "light"
     },
     "output_type": "display_data"
    }
   ],
   "source": [
    "plt.figure(figsize=(16,5))\n",
    "plt.plot(date_range, mean_A, label=\"mean_A\");\n",
    "plt.plot(date_range, mean_B, label=\"mean_B\");\n",
    "plt.legend()\n",
    "plt.ylabel('Кол-во наблюдений по группам');"
   ]
  },
  {
   "cell_type": "code",
   "execution_count": 34,
   "id": "9024367a",
   "metadata": {},
   "outputs": [
    {
     "data": {
      "text/plain": [
       "Text(0, 0.5, 'p_value')"
      ]
     },
     "execution_count": 34,
     "metadata": {},
     "output_type": "execute_result"
    },
    {
     "data": {
      "image/png": "[encoded data removed]",
      "text/plain": [
       "<Figure size 1152x360 with 1 Axes>"
      ]
     },
     "metadata": {
      "needs_background": "light"
     },
     "output_type": "display_data"
    }
   ],
   "source": [
    "plt.figure(figsize=(16,5))\n",
    "plt.bar(date_range, p_values);\n",
    "plt.plot(date_range, [0.05] * 31, \"r\");\n",
    "plt.ylabel('p_value')"
   ]
  },
  {
   "cell_type": "code",
   "execution_count": 35,
   "id": "58961c30",
   "metadata": {},
   "outputs": [
    {
     "data": {
      "image/png": "[encoded data removed]",
      "text/plain": [
       "<Figure size 1152x360 with 1 Axes>"
      ]
     },
     "metadata": {
      "needs_background": "light"
     },
     "output_type": "display_data"
    }
   ],
   "source": [
    "plt.figure(figsize=(16,5))\n",
    "plt.plot(date_range, count_A, label=\"count_A\");\n",
    "plt.plot(date_range, count_B, label=\"count_B\");\n",
    "plt.legend()\n",
    "plt.ylabel('Кол-во наблюдений по группам');"
   ]
  },
  {
   "cell_type": "markdown",
   "id": "ef35415a",
   "metadata": {},
   "source": [
    "## Выводы\n",
    " - получен статистически значимы результат: p_value < 0.05 на 31 сутки\n",
    " - эффект около 9%-10% держиться практически весь период проведения AB теста\n",
    " - измения представленные в группе B принимаются как более эффективные"
   ]
  },
  {
   "cell_type": "code",
   "execution_count": null,
   "id": "108e3070",
   "metadata": {},
   "outputs": [],
   "source": []
  }
 ],
 "metadata": {
  "kernelspec": {
   "display_name": "Python 3",
   "language": "python",
   "name": "python3"
  },
  "language_info": {
   "codemirror_mode": {
    "name": "ipython",
    "version": 3
   },
   "file_extension": ".py",
   "mimetype": "text/x-python",
   "name": "python",
   "nbconvert_exporter": "python",
   "pygments_lexer": "ipython3",
   "version": "3.8.8"
  }
 },
 "nbformat": 4,
 "nbformat_minor": 5
}
